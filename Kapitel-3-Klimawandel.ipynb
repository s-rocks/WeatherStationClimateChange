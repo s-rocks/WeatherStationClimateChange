{
 "cells": [
  {
   "cell_type": "markdown",
   "metadata": {},
   "source": [
    "# Kapitel 3 - Klimawandel"
   ]
  },
  {
   "cell_type": "markdown",
   "metadata": {},
   "source": [
    "Den Klimawandel an nur einer einzelnen Wetterstation abzulesen ist nicht ganz leicht. Das liegt vor allem an diesen Gründen:\n",
    "\n",
    "- die Erde erwärmt sich nicht überall gleich schnell. Und es gibt sogar einige wenige Orte, an denen es über die letzten Jahre eher kälter als wärmer wurde... an diesen Orten kann man also schon prinzipiell keine Erwärmung finden! Das schauen wir uns später nochmal genauer an.\n",
    "- im Klimasystem der Erde passiert sehr viel mit unterschiedlichen Zeitskalen: Von Regen, der in 15 Minuten wieder vorbei sein kann, über Hoch- und Tiefdruckgebiete, die sich in Tagen bis Wochen verändern, bis zu sehr langsamen Phänomenen: vielleicht hast du schonmal vom El Niño gehört - der kommt in etwa alle 2 bis 7 Jahre. Man muss aufpassen, dass diese sogenannte \"Klima-Variabilität\" nicht das Signal beeinflusst, dass man für den Klimawandel bestimmt! Du hast ja mittlerweile auch schon gesehen, dass sehr viel \"Rauschen\" in den Daten ist.\n",
    "- last but not least kann es auch mit der Mess-Station Probleme geben: Hat sich das Messgerät verändert? Ist die Station umgezogen? Wurde der Boden / die Umgebung um die Station verändert, so dass sich die Gegend um die Station jetzt zB unter der Sonne mehr aufwärmt?"
   ]
  },
  {
   "cell_type": "markdown",
   "metadata": {},
   "source": [
    "Also los geht's: Zuerst müssen wir nochmal die Daten laden (kennst du ja schon aus den letzten Kapiteln: den Namen der Datei eingeben)"
   ]
  },
  {
   "cell_type": "code",
   "execution_count": null,
   "metadata": {},
   "outputs": [],
   "source": [
    "# Programmierbibliotheken importieren\n",
    "\n",
    "import pandas as pd\n",
    "import xarray as xr\n",
    "import matplotlib.pyplot as plt\n",
    "import numpy as np\n",
    "\n",
    "import xarray as xr\n",
    "import pandas as pd\n",
    "from matplotlib.patches import Rectangle\n",
    "from matplotlib.collections import PatchCollection\n",
    "from matplotlib.colors import ListedColormap\n",
    "import matplotlib.colors as mcolors\n",
    "import matplotlib.patches as patches"
   ]
  },
  {
   "cell_type": "code",
   "execution_count": null,
   "metadata": {},
   "outputs": [],
   "source": [
    "d = pd.read_csv(\n",
    "    \"daten/produkt_klima_tag_19340101_20221231_02932.txt\",\n",
    "    sep=\";\",\n",
    "    skipinitialspace=True,\n",
    ")\n",
    "\n",
    "data = xr.DataArray(d[\"TMK\"], coords={\"time\": d[\"MESS_DATUM\"]})\n",
    "data[\"time\"] = pd.to_datetime(data.time, format=\"%Y%m%d\")\n",
    "data = data.sel(time=slice(np.datetime64(\"1973-01-01\"), None))"
   ]
  },
  {
   "cell_type": "code",
   "execution_count": null,
   "metadata": {},
   "outputs": [],
   "source": [
    "d = pd.read_csv(\n",
    "    \"daten/produkt_klima_tag_19340101_20221231_02932.txt\",\n",
    "    sep=\";\",\n",
    "    skipinitialspace=True,\n",
    ")\n",
    "\n",
    "data = xr.DataArray(d[\"TMK\"], coords={\"time\": d[\"MESS_DATUM\"]})\n",
    "data[\"time\"] = pd.to_datetime(data.time, format=\"%Y%m%d\")"
   ]
  },
  {
   "cell_type": "code",
   "execution_count": null,
   "metadata": {},
   "outputs": [],
   "source": [
    "data = data.sel(time=slice(np.datetime64(\"1973-01-01\"), None))"
   ]
  },
  {
   "cell_type": "markdown",
   "metadata": {},
   "source": [
    "Damit der Klimawandel nicht von der \"Klima-variabilität\" überdeckt wird, können wir uns zunächst mal Jahresdurchschnittswerte anschauen:"
   ]
  },
  {
   "cell_type": "code",
   "execution_count": null,
   "metadata": {},
   "outputs": [],
   "source": [
    "yearly_averages = data.groupby(\"time.year\").mean()\n",
    "\n",
    "yearly_averages.plot.scatter()\n",
    "plt.show()"
   ]
  },
  {
   "cell_type": "markdown",
   "metadata": {},
   "source": [
    "Was fällt dir auf? Kannst du einen Trend erkennen? Ist das \"Erderwärmungs-Signal\" klar?"
   ]
  },
  {
   "cell_type": "markdown",
   "metadata": {},
   "source": [
    "Antwort:"
   ]
  },
  {
   "cell_type": "markdown",
   "metadata": {},
   "source": [
    "Dass der Trend nicht so klar ist überrascht dich vielleicht - das sieht weniger klar als das oft beschrieben wird."
   ]
  },
  {
   "cell_type": "markdown",
   "metadata": {},
   "source": [
    "Werden also alle hinter's Licht geführt von Klimawissenschaftlern? Nein - Denn worüber Forscher meistens sprechen sind Jahresdurchschnitte für die **gesamte Erde**, wärend wir uns nur die Temperatur in Leipzig angeschaut haben. Und wenn man den Durchschnitt über die gesamte Erde nimmt, \"mittelt sich viel Rauschen heraus\". Du kannst dir zum Beispiel vorstellen, dass es in einem Jahr mit einem sehr heißen Sommer in Deutschland oft einen kalten Sommer anderswo auf der Welt gibt... es ist ein bisschen wie bei Brettspielen - mal würfelt die eine eine 6 und der andere eine 2 - mal ist es umgekehrt. Was sich mit dem Klimawandel über die Zeit verändert sind dann sozusagen die Chancen, die einzelnen Zahlen zu würfeln.\n",
    "\n",
    "Wir kommen später nochmal auf den Unterschied von globalen Durchschnitten und dem Leiziger / sächsischen Klima zurück, wenn wir uns \"Klimastreifen\" anschauen."
   ]
  },
  {
   "cell_type": "markdown",
   "metadata": {},
   "source": [
    "## 3.2 Linearer Trend"
   ]
  },
  {
   "cell_type": "markdown",
   "metadata": {},
   "source": [
    "Du hast vermutlich gesehen, dass es in den Daten der Station Leipzig/Halle tendenziell doch leicht bergauf geht mit der Temperatur. Können wir irgendwie genauer sagen, wie viel das pro Jahr ist?\n",
    "\n",
    "Um das zu machen schauen wir uns etwas an, was Wissenschaftler:innen \"Lineare Regression\" nennen. Dabei legt man im einfachsten Fall eine Gerade auf die Daten... und verschiebt die dann so lange hin und her, bis der \"Fehler\", den man durch die Gerade macht möglichst klein ist.\n",
    "\n",
    "Ich hab im nächsten Codeblock mal 3 Geraden definiert - ich denke, man sieht, dass einige davon besser zu den Daten passen als andere:"
   ]
  },
  {
   "cell_type": "code",
   "execution_count": null,
   "metadata": {},
   "outputs": [],
   "source": [
    "def f(x, m, b):\n",
    "    return m * x + b\n",
    "\n",
    "\n",
    "yearly_averages = data.groupby(\"time.year\").mean()\n",
    "\n",
    "yearly_averages.plot.scatter(color=\"k\")\n",
    "\n",
    "plt.plot(yearly_averages.year, f(yearly_averages.year, 0.1, -190))\n",
    "plt.plot(yearly_averages.year, f(yearly_averages.year, 2, -4000))\n",
    "plt.plot(yearly_averages.year, f(yearly_averages.year, -0.3, 610))\n",
    "plt.ylim(0, 20)\n",
    "plt.show()"
   ]
  },
  {
   "cell_type": "markdown",
   "metadata": {},
   "source": [
    "Man muss das zum Glück nicht alles von Hand machen - man kann mit Methoden aus der Mathematik definieren, was es bedeutet, dass eine Gerade den \"kleinsten Fehler\" macht... und dann kann man ausrechnen, welche Gerade die beste ist. Das machen wir (bzw der Computer) jetzt:"
   ]
  },
  {
   "cell_type": "code",
   "execution_count": null,
   "metadata": {},
   "outputs": [],
   "source": [
    "from scipy import optimize\n",
    "\n",
    "popt, pcov = optimize.curve_fit(f, yearly_averages.year, yearly_averages)\n",
    "print(\n",
    "    \"Optimale Steigung: {:.3f}\".format(popt[0]),\n",
    "    \"Optimaler y-Achsen-Abschnitt: {:.3f}\".format(popt[1]),\n",
    ")"
   ]
  },
  {
   "cell_type": "markdown",
   "metadata": {},
   "source": [
    "Schauen wir uns die Gerade an:"
   ]
  },
  {
   "cell_type": "code",
   "execution_count": null,
   "metadata": {},
   "outputs": [],
   "source": [
    "x = yearly_averages.year\n",
    "y = yearly_averages\n",
    "\n",
    "plt.scatter(x, y, label=\"Daten\")\n",
    "plt.plot(\n",
    "    [min(x), max(x)], [f(min(x), *popt), f(max(x), *popt)], \"r--\", label=\"Beste Gerade\"\n",
    ")\n",
    "plt.legend()\n",
    "\n",
    "plt.ylim(5, 15)\n",
    "plt.show()"
   ]
  },
  {
   "cell_type": "markdown",
   "metadata": {},
   "source": [
    "Das sieht doch gut aus!\n",
    "\n",
    "Und wenn wir uns die Geradengleichung anschauen können wir auch herausfinden, wie viel es pro Jahr in etwa wärmer wird: Dazu müssen wir auf die Steigung der Geraden schauen:"
   ]
  },
  {
   "cell_type": "code",
   "execution_count": null,
   "metadata": {},
   "outputs": [],
   "source": [
    "\"Steigung: {:.3f}\".format(popt[0])"
   ]
  },
  {
   "cell_type": "markdown",
   "metadata": {},
   "source": [
    "Welche Einheiten hat diese Steigung? (Die Antwort ist die Einheit auf der y-Achse, geteilt durch die Einheit auf der x-Achse)\n",
    "\n",
    "Antwort:\n",
    "\n",
    "Kannst du herausfinden, 1) wie viel es in 10 Jahren wärmer wird? 2) wie lange es etwa dauern sollte, um ein weiteres °C wärmer zu werden?"
   ]
  },
  {
   "cell_type": "markdown",
   "metadata": {},
   "source": [
    "Antwort 1:"
   ]
  },
  {
   "cell_type": "markdown",
   "metadata": {},
   "source": [
    "Antwort 2:"
   ]
  },
  {
   "cell_type": "markdown",
   "metadata": {},
   "source": [
    "Achtung: die Zeit, die wir hier für 1°C zusätzliche Erwärmung ausgerechnet haben muss für die Zukunft nicht richtig sein, nicht einmal für Leipzig! Denn hier haben wir einfach gesagt \"die Temperatur folgt über die Zeit dem Verlauf einer Geraden\" ohne das irgendwie zu begründen. Das ist eine extrem starke Vereinfachung. Und dazu hängt die zukünftige Klimaveränderung natürlich davon ab, wie viel Treibhausgase ausgestoßen werden - es kann also sein, dass ein zusätzliches °C Erwärmung noch schneller erreicht wird (wenn wir mehr CO2 ausstoßen), oder dass es deutlich länger dauert (wenn wir den Klimawandel effektiv bekämpfen) - oder das es überhaupt nie erreicht wird."
   ]
  },
  {
   "cell_type": "markdown",
   "metadata": {},
   "source": [
    "## 3.3 Vergleich mit weltweitem Klimawandel"
   ]
  },
  {
   "cell_type": "markdown",
   "metadata": {},
   "source": [
    "Bis jetzt haben wir uns nur die Daten einer einzelnen Wetterstation angeschaut - wie stark unterscheidet sich unser Ergebnis von der Klimaveränderung in ganz Deutschland? Und wie unterschiedlich Verhält es sich an verschiedenen Orten der Erde?"
   ]
  },
  {
   "cell_type": "markdown",
   "metadata": {},
   "source": [
    "Der Weltklimarat hat einen [Atlas](https://interactive-atlas.ipcc.ch/regional-information#eyJ0eXBlIjoiQVRMQVMiLCJjb21tb25zIjp7ImxhdCI6OTc3MiwibG5nIjo0MDA2OTIsInpvb20iOjQsInByb2oiOiJFUFNHOjU0MDMwIiwibW9kZSI6ImNvbXBsZXRlX2F0bGFzIn0sInByaW1hcnkiOnsic2NlbmFyaW8iOiJvYnNlcnZhdGlvbnMiLCJwZXJpb2QiOiIxOTgwLTIwMTUiLCJzZWFzb24iOiJ5ZWFyIiwiZGF0YXNldCI6Ik9CUy1FUkE1IiwidmFyaWFibGUiOiJ0YXMiLCJ2YWx1ZVR5cGUiOiJUUkVORCIsImhhdGNoaW5nIjoiRElTQUJMRUQiLCJyZWdpb25TZXQiOiJhcjYiLCJiYXNlbGluZSI6InByZUluZHVzdHJpYWwiLCJyZWdpb25zU2VsZWN0ZWQiOltdfSwicGxvdCI6eyJhY3RpdmVUYWIiOiJwbHVtZSIsIm1hc2siOiJub25lIiwic2NhdHRlcllNYWciOm51bGwsInNjYXR0ZXJZVmFyIjpudWxsLCJzaG93aW5nIjpmYWxzZX19) veröffentlicht, auf dem man sich weltweite Temperatur-Beobachtungsdaten (und Projektionen für die Zukunft unter verschiedenen möglichen Szenarien) anschauen kann.\n",
    "\n",
    "Schau dir die Karte an: Wie viel hat sich die Temperatur in der Gegend von Leipzig (muss nicht genau stimmen) zwischen 1980 und 2015 in etwa pro Dekade (also pro 10 Jahre) erwärmt? Vergleiche mit unserem Ergebnis!"
   ]
  },
  {
   "cell_type": "markdown",
   "metadata": {},
   "source": [
    "Antwort:"
   ]
  },
  {
   "cell_type": "markdown",
   "metadata": {},
   "source": [
    "Was fällt dir sonst so auf? Welche Regionen haben sich besonders stark erwärmt, welche nur sehr wenig oder sind sogar kälter geworden? Was sind die höchsten und niedrigsten Werte, die du finden kannst? (du kannst auch die Farbskala in dem Atlas einstellen indem du auf das Symbol mit dem Stift über der Farbskala klickst)."
   ]
  },
  {
   "cell_type": "markdown",
   "metadata": {},
   "source": [
    "Antwort:"
   ]
  },
  {
   "cell_type": "markdown",
   "metadata": {},
   "source": [
    "Größte Erwärmung pro Dekade: Deine Antwort (°C/10 Jahre)"
   ]
  },
  {
   "cell_type": "markdown",
   "metadata": {},
   "source": [
    "Geringste Erwärmung/stärkste Abkühlung pro Dekade: Deine Antwort (°C/10 Jahre)"
   ]
  },
  {
   "cell_type": "markdown",
   "metadata": {},
   "source": [
    "Hast du eine Idee, warum sich Arktis und Antarktis so unterschiedlich schnell erwärmen?"
   ]
  },
  {
   "cell_type": "markdown",
   "metadata": {},
   "source": [
    "Antwort:"
   ]
  },
  {
   "cell_type": "markdown",
   "metadata": {},
   "source": [
    "## 3.4 Klimastreifen"
   ]
  },
  {
   "cell_type": "markdown",
   "metadata": {},
   "source": [
    "Die wohl bekannteste Grafik aus der Klimawissenschaft sind die sogenannten \"Klimastreifen\", die sich der Britische Wissenschaftler Ed Hawkins ausgedacht hat:"
   ]
  },
  {
   "cell_type": "markdown",
   "metadata": {},
   "source": [
    "![Klimastreifen](klimastreifen.png)"
   ]
  },
  {
   "cell_type": "markdown",
   "metadata": {},
   "source": [
    "Das hängt mittlerweile auch im \"Museum of Modern Art\" in New York, man kann Socken mit den Farben kaufen - und die Sachenbrücke im Clara Zetkin Park ist auch damit bemalt:"
   ]
  },
  {
   "cell_type": "markdown",
   "metadata": {},
   "source": [
    "![Klimastreifen Socken](klimastreifen_socken.png) ![Klimastreifen Sachsenbrücke](klimastreifen_sachsenbrücke.png)"
   ]
  },
  {
   "cell_type": "markdown",
   "metadata": {},
   "source": [
    "Was zeigen die Streifen?\n",
    "- Jeder Streifen steht für die Weltdurchschnittstemperatur in einem Jahr - links ist früher und rechts ist heute\n",
    "- Die Farbe der Streifen symbolisiert, wie warm ein Jahr war.\n",
    "- Um einen Bezugswert für ein \"normal warmes\" Jahr zu haben, hat sich Ed Hawkins den Durchschnitt der Temperaturen der Jahre von **1961 bis 2010** angeschaut. Alle Jahre, die wärmer als dieser Durchschnitt sind, sind rot, alle die kälter sind sind blau gemalt. Je intensiver die Farbe ist, desto deutlicher unterscheidet sich die Temperatur vom Bezugswert."
   ]
  },
  {
   "cell_type": "markdown",
   "metadata": {},
   "source": [
    "Man kann sich diese Streifen auch für die Daten bei sich vor Ort ausrechnen. Das wollen wir im Folgenden machen! Aber dafür sind die Daten der Wetterstation in Leipzig/Halle nicht lang genug - die hatten ja vor 1972 eine Lücke.\n",
    "\n",
    "Beginnen wir damit, die Daten zu laden:"
   ]
  },
  {
   "cell_type": "code",
   "execution_count": null,
   "metadata": {},
   "outputs": [],
   "source": [
    "df = pd.read_csv(\n",
    "    \"daten/regional_averages_tm_year.txt\",\n",
    "    sep=\";\",\n",
    "    skipinitialspace=True,\n",
    "    skiprows=1,\n",
    ")"
   ]
  },
  {
   "cell_type": "markdown",
   "metadata": {},
   "source": [
    "Daten gibt's für alle Bundesländer, suche dir eines aus, das dich interessiert, indem du \\<durch Bundeslandnamen ersetzen\\> durch den Namen eines Bundeslandes ersetzt (wichtig: nur das innerhalb der Anführungszeichen ersetzen!)"
   ]
  },
  {
   "cell_type": "code",
   "execution_count": null,
   "metadata": {},
   "outputs": [],
   "source": [
    "bundesland = \"<durch Bundeslandnamen ersetzen>\"\n",
    "zeitreihe_bundesland = xr.DataArray(\n",
    "    df[bundesland], coords={\"year\": df[\"Jahr\"]}\n",
    ").sel(\n",
    "    year=slice(None, 2024)\n",
    ")  # hier nehmen wir das Jahr 2025 aus, weil wir dafür noch nicht alle Daten haben - läuft ja schließlich noch!"
   ]
  },
  {
   "cell_type": "markdown",
   "metadata": {},
   "source": [
    "Als nächstes müssen wir den Bezugswert berechnen, dessen Temperatur darüber entscheidet, was die Grenze zwischen kälteren blauen und wärmeren roten Jahren ist. Erinnerst du dich noch, welche Jahre man dazu benutzt? Ersetze im Folgenden Codeblock ANFANGSJAHR und ENDJAHR entsprechend."
   ]
  },
  {
   "cell_type": "code",
   "execution_count": null,
   "metadata": {},
   "outputs": [],
   "source": [
    "mittelwert = zeitreihe_bundesland.sel(year=slice(ANFANGSJAHR, ENDJAHR)).mean()\n",
    "\n",
    "# das brauchen wir später, um zu entscheiden, wie intenstiv rot und blau die Farben sein sollen:\n",
    "standardabweichung = zeitreihe_bundesland.sel(year=slice(1961, 2010)).std()"
   ]
  },
  {
   "cell_type": "markdown",
   "metadata": {},
   "source": [
    "Wie warm ist das genau?"
   ]
  },
  {
   "cell_type": "code",
   "execution_count": null,
   "metadata": {},
   "outputs": [],
   "source": [
    "print(f\"Bezugswert: {float(mittelwert):.1f}°C\")"
   ]
  },
  {
   "cell_type": "markdown",
   "metadata": {},
   "source": [
    "Jahre, deren Durchnittstemperatur in Sachsen wärmer als dieser Wert sind sind also gleich rot."
   ]
  },
  {
   "cell_type": "markdown",
   "metadata": {},
   "source": [
    "Und damit können wir jetzt auch schon die Klimastreifen zeichnen lassen!"
   ]
  },
  {
   "cell_type": "code",
   "execution_count": null,
   "metadata": {},
   "outputs": [],
   "source": [
    "# Erstelle eine neue Grafik mit einer Größe von 15x8 Inches\n",
    "plt.figure(figsize=(15, 8))\n",
    "ax = plt.gca()\n",
    "\n",
    "# Das sorgt dafür, dass die Daten in den richtigen Farben angezeigt werden\n",
    "norm = mcolors.Normalize(\n",
    "    vmin=mittelwert - 3 * standardabweichung, vmax=mittelwert + 3 * standardabweichung\n",
    ")\n",
    "\n",
    "# Hier definieren wir die Farben, die wir verwenden wollen - im Computer sind Farben durch bestimmte Codes gespeichert, die im Prinzip aussagen, wie viel Rot, Blau und Grün der Computer für die Farbe verwenden soll.\n",
    "cmap = ListedColormap(\n",
    "    [\n",
    "        \"#08306b\",\n",
    "        \"#08519c\",\n",
    "        \"#2171b5\",\n",
    "        \"#4292c6\",\n",
    "        \"#6baed6\",\n",
    "        \"#9ecae1\",\n",
    "        \"#c6dbef\",\n",
    "        \"#deebf7\",\n",
    "        \"#fee0d2\",\n",
    "        \"#fcbba1\",\n",
    "        \"#fc9272\",\n",
    "        \"#fb6a4a\",\n",
    "        \"#ef3b2c\",\n",
    "        \"#cb181d\",\n",
    "        \"#a50f15\",\n",
    "        \"#67000d\",\n",
    "    ]\n",
    ")\n",
    "\n",
    "# Hier erstellen wir Stück für Stück die Klimastreifen - farbige rechtecke an der richtigen Position.\n",
    "for i in range(len(zeitreihe_bundesland.year)):\n",
    "    # Die Position des Rechtecks entlang der x-Achse hängt vom Jahr ab, für das wir das Rechteck zeichnen wollen.\n",
    "    x = zeitreihe_bundesland.year[i] - 0.5\n",
    "    # damit legen wir die Breite und Höhe des Rechtecks fest\n",
    "    width = 1.001\n",
    "    height = 1\n",
    "    # hier bestimmen wir die Farbe, die der Streifen, den wir gerade zeichnen, haben soll.\n",
    "    color = cmap(norm(zeitreihe_bundesland[i]))\n",
    "    # Jetzt sind wir mit den Vorbereitungen fertig und können das Rechteck zeichnen.\n",
    "    rect = patches.Rectangle((x, 0), width, height, facecolor=color, edgecolor=\"none\")\n",
    "    ax.add_patch(rect)\n",
    "\n",
    "# Das legt fest, das unsere x-Achse mit dem ersten Jahr im Datensatz beginnen und nach dem letzten Jahr im Datensatz enden soll:\n",
    "ax.set_xlim(\n",
    "    zeitreihe_bundesland.year.min() - 0.5, zeitreihe_bundesland.year.max() + 0.5\n",
    ")\n",
    "\n",
    "# Das sorgt dafür, dass die y-Achse nicht angezeigt wird\n",
    "ax.yaxis.set_visible(False)\n",
    "\n",
    "plt.xlabel(\"Jahr\")\n",
    "plt.tight_layout()\n",
    "plt.show()"
   ]
  },
  {
   "cell_type": "markdown",
   "metadata": {},
   "source": [
    "Damit es noch etwas hübscher aussieht können wir noch die x-Achsenbeschriftung ausblenden - und das Bild dann abspeichern lassen. Nach dem Ausführen dieses Codes sollte ein Bild mit dem Namen `meine_klimastreifen.jpeg` in eurem Ordner auftauchen."
   ]
  },
  {
   "cell_type": "code",
   "execution_count": null,
   "metadata": {},
   "outputs": [],
   "source": [
    "# Das erstellt eine neue Grafik mit einer Größe von 15x8 Inches:\n",
    "plt.figure(figsize=(15, 8))\n",
    "ax = plt.gca()\n",
    "\n",
    "# Das sorgt dafür, dass die Daten in den richtigen Farben angezeigt werden\n",
    "norm = mcolors.Normalize(\n",
    "    vmin=mittelwert - 3 * standardabweichung, vmax=mittelwert + 3 * standardabweichung\n",
    ")\n",
    "\n",
    "# Hier definieren wir die Farben, die wir verwenden wollen\n",
    "# im Computer sind Farben durch bestimmte Codes gespeichert, die im Prinzip aussagen, wie viel Rot, Blau und Grün der Computer für jede Farbe zusammen mischen soll.\n",
    "\n",
    "cmap = ListedColormap(\n",
    "    [\n",
    "        \"#08306b\",\n",
    "        \"#08519c\",\n",
    "        \"#2171b5\",\n",
    "        \"#4292c6\",\n",
    "        \"#6baed6\",\n",
    "        \"#9ecae1\",\n",
    "        \"#c6dbef\",\n",
    "        \"#deebf7\",\n",
    "        \"#fee0d2\",\n",
    "        \"#fcbba1\",\n",
    "        \"#fc9272\",\n",
    "        \"#fb6a4a\",\n",
    "        \"#ef3b2c\",\n",
    "        \"#cb181d\",\n",
    "        \"#a50f15\",\n",
    "        \"#67000d\",\n",
    "    ]\n",
    ")\n",
    "\n",
    "# Hier erstellen wir Stück für Stück die Klimastreifen - farbige Rechtecke an der richtigen Position.\n",
    "for i in range(len(zeitreihe_bundesland.year)):\n",
    "    # Die Position des Rechtecks entlang der x-Achse hängt vom Jahr ab, für das wir das Rechteck zeichnen wollen.\n",
    "    x = zeitreihe_bundesland.year[i] - 0.5\n",
    "    # damit legen wir die Breite und Höhe des Rechtecks fest\n",
    "    width = 1.001\n",
    "    height = 1\n",
    "    # hier bestimmen wir die Farbe, die der Streifen, den wir gerade zeichnen, haben soll.\n",
    "    color = cmap(norm(zeitreihe_bundesland[i]))\n",
    "    # Jetzt sind wir mit den Vorbereitungen fertig und können das Rechteck zeichnen.\n",
    "    rect = patches.Rectangle((x, 0), width, height, facecolor=color, edgecolor=\"none\")\n",
    "    ax.add_patch(rect)\n",
    "\n",
    "# Das legt fest, das unsere x-Achse mit dem ersten Jahr im Datensatz beginnen und nach dem letzten Jahr im Datensatz enden soll:\n",
    "ax.set_xlim(\n",
    "    zeitreihe_bundesland.year.min() - 0.5, zeitreihe_bundesland.year.max() + 0.5\n",
    ")\n",
    "\n",
    "plt.axis(\"off\")\n",
    "\n",
    "# Das sorgt dafür, dass die y-Achse nicht angezeigt wird\n",
    "ax.yaxis.set_visible(False)\n",
    "\n",
    "# \"Jahr\" an die x-Achse schreiben\n",
    "plt.xlabel(\"Jahr\")\n",
    "\n",
    "# nur kleine weiße ränder um die Abbildung zulassen\n",
    "plt.tight_layout()\n",
    "\n",
    "# bild speichern\n",
    "plt.savefig(\"meine_klimastreifen.jpeg\", dpi=300, bbox_inches=\"tight\")\n",
    "plt.show()"
   ]
  },
  {
   "cell_type": "markdown",
   "metadata": {},
   "source": [
    "Hier zum Vergleich nochmal die Streifen für die gesamte Erde:\n",
    "\n",
    "![Klimastreifen](klimastreifen.png)"
   ]
  },
  {
   "cell_type": "markdown",
   "metadata": {},
   "source": [
    "In beiden Fällen erkennt man, dass es mit der Zeit immer röter, also wärmer wird - und das auch in den letzten Jahren immer schneller. Ein Unterschied ist, dass die Farben im Diagram für die gesamte Welt einen \"geordneteren\" Verlauf nehmen als die regionalen Daten. Kannst du dir denken warum? Erinnere dich an den Anfang des Notebooks und wie die einzelnen Datenpunkte im Zeitverlauf für Leipzig ausgesehen haben. Wenn ihr euch nicht erinnert, schaut nochmal in den Text danach."
   ]
  },
  {
   "cell_type": "markdown",
   "metadata": {},
   "source": [
    "Antwort:"
   ]
  },
  {
   "cell_type": "markdown",
   "metadata": {},
   "source": [
    "Wenn du dir zum Abschluss noch eine andere coole Animation zu Klimadaten anschauen willst, schau mal [hier](https://svs.gsfc.nasa.gov/5190/). Die Farben in der Animation sind ähnlich wie die der Klimastreifen, der größte Unterschied ist, dass die sich das für einzelne Monate statt für Jahre anschauen."
   ]
  },
  {
   "cell_type": "markdown",
   "metadata": {},
   "source": [
    "Es bleibt noch zu sagen, dass Wetterdaten bei weitem nicht der einzige Beweis für den Klimawandel sind, unter anderem nutzen Forscher auch noch folgendes:\n",
    "\n",
    "- Bestimmte Umweltprozesse reagieren auf Temperaturschwankungen. Zum Beispiel wachsen Bäume unterschiedlich schnell je nachdem, wie warm es ist. Dadurch kann man dann von der Dicke ihrer Jahresringe auf das Klima zurückschließen. Das ist besonders wertvoll, wenn man das Klima der Zeit studieren will, in der Menschen noch nicht systematisch Wetterdaten aufgezeichnet haben. Das Feld das sich damit beschäftigt nennt sich Paläo-Klimatologie.\n",
    "- Wir können im Labor messen oder theoretisch bestimmen, welche Wirkung CO2 und andere Treibhausgase genau auf die Strahlung haben. Und das kann man dann mit vielen anderen Dingen, die wir über die Atmosphäre, den Ozean, und andere Aspekte des Erdsystems wissen kombinieren und daraus Computermodelle bauen. Was dabei herauskommt sind Klimamodelle, mit denen wir simulieren können, wie genau sich das Klima verändert, wenn wir als Menschheit in das System eingreifen - etwa indem wir Treibhausgase ausstoßen."
   ]
  }
 ],
 "metadata": {
  "kernelspec": {
   "display_name": "student_project",
   "language": "python",
   "name": "python3"
  },
  "language_info": {
   "codemirror_mode": {
    "name": "ipython",
    "version": 3
   },
   "file_extension": ".py",
   "mimetype": "text/x-python",
   "name": "python",
   "nbconvert_exporter": "python",
   "pygments_lexer": "ipython3",
   "version": "3.12.1"
  }
 },
 "nbformat": 4,
 "nbformat_minor": 2
}
